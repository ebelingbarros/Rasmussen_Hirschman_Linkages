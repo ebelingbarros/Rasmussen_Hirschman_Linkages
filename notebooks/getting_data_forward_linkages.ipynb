{
 "cells": [
  {
   "cell_type": "markdown",
   "metadata": {},
   "source": [
    "# Forward linkage calculation "
   ]
  },
  {
   "cell_type": "markdown",
   "metadata": {},
   "source": [
    "- This notebook contains code for the calculation of forward linkages indexes for 42 countries from the WIOD database, for the 2000-2014 period. \n",
    "- The calculation of backward linkage indexes, weighted forward linkage indexes and weighted backward linkages indexes requires slightly different code and is not carried out in a large chain of for loops.\n",
    "- Feel free to reach out if you want the code for these other calculations or if you require the precise format of the data files. My email address: ebelingbarros@gmail.com\n",
    "- If you want to reproduce the code above, be careful with the path of the csv files. The csv files should be available in a \"data\" folder, one for each country. \n",
    "- The common error ```ValueError: operands could not be broadcast together with shapes (56,56) (0,56)``` can be resolved by deleting the aditional csv files that are generated every time the calculation is performed."
   ]
  },
  {
   "cell_type": "markdown",
   "metadata": {},
   "source": [
    "### Importing libraries"
   ]
  },
  {
   "cell_type": "code",
   "execution_count": null,
   "metadata": {},
   "outputs": [],
   "source": [
    "import pandas as pd\n",
    "import numpy as np\n",
    "from sklearn import preprocessing\n",
    "from numpy.linalg import inv\n",
    "import glob"
   ]
  },
  {
   "cell_type": "markdown",
   "metadata": {},
   "source": [
    "### For loops that generate caculations for all years and countries"
   ]
  },
  {
   "cell_type": "code",
   "execution_count": null,
   "metadata": {
    "scrolled": true
   },
   "outputs": [],
   "source": [
    "#Specifiy data path and filename \n",
    "path = r'data' \n",
    "all_files = glob.glob(path + \"/*.csv\")\n",
    "\n",
    "#First for loop that specifies initial dataframe with read-in data\n",
    "for filename in all_files:\n",
    "        data = pd.read_csv(filename)\n",
    "        \n",
    "        #Specifiy target dataframe       \n",
    "        first_year = ['1999']\n",
    "        codes = ['A01', 'A02', 'A03', 'B', 'C10-C12', 'C13-C15', 'C16', 'C17', 'C18', 'C19', 'C20', 'C21', 'C22', 'C23', 'C24', 'C25', 'C26', 'C27', 'C28', 'C29', 'C30', 'C31_C32', 'C33', 'D35', 'E36', 'E37-E39', 'F', 'G45', 'G46', 'G47', 'H49', 'H50', 'H51', 'H52', 'H53', 'I', 'J58', 'J59_J60', 'J61', 'J62_J63', 'K64', 'K65', 'K66', 'L68', 'M69_M70', 'M71', 'M72', 'M73', 'M74_M75', 'N', 'O84', 'P85', 'Q', 'R_S', 'T', 'U']\n",
    "        forward_linkages = pd.DataFrame(index=codes, columns=first_year) \n",
    "        forward_linkages.insert(1, \"codes\", ['A01', 'A02', 'A03', 'B', 'C10-C12', 'C13-C15', 'C16', 'C17', 'C18', 'C19', 'C20', 'C21', 'C22', 'C23', 'C24', 'C25', 'C26', 'C27', 'C28', 'C29', 'C30', 'C31_C32', 'C33', 'D35', 'E36', 'E37-E39', 'F', 'G45', 'G46', 'G47', 'H49', 'H50', 'H51', 'H52', 'H53', 'I', 'J58', 'J59_J60', 'J61', 'J62_J63', 'K64', 'K65', 'K66', 'L68', 'M69_M70', 'M71', 'M72', 'M73', 'M74_M75', 'N', 'O84', 'P85', 'Q', 'R_S', 'T', 'U'])\n",
    "        forward_linkages = forward_linkages.set_index('codes')\n",
    "        \n",
    "        #Second for loop that performs actual calculation\n",
    "        year_list = list(range(2000, 2015))\n",
    "        for j in year_list:\n",
    "            \n",
    "                #Data preparation and cleaning\n",
    "                data1 = pd.DataFrame(data, columns = ['Year','Code', 'Origin','A01', 'A02', 'A03', 'B', 'C10-C12', 'C13-C15', 'C16', 'C17', 'C18', 'C19', 'C20', 'C21', 'C22', 'C23', 'C24', 'C25', 'C26', 'C27', 'C28', 'C29', 'C30', 'C31_C32', 'C33', 'D35', 'E36', 'E37-E39', 'F', 'G45', 'G46', 'G47', 'H49', 'H50', 'H51', 'H52', 'H53', 'I', 'J58', 'J59_J60', 'J61', 'J62_J63', 'K64', 'K65', 'K66', 'L68', 'M69_M70', 'M71', 'M72', 'M73', 'M74_M75', 'N', 'O84', 'P85', 'Q', 'R_S', 'T', 'U'])\n",
    "                data2 = data1.loc[(data1['Year'] == j) & (data1['Origin'] == 'Domestic')]\n",
    "                data3 = data2.drop(['Year', 'Code', 'Origin'], axis=1)\n",
    "                data3 = data3.apply(pd.to_numeric, errors='coerce')\n",
    "                \n",
    "                #Matricial calculation steps\n",
    "                flow_tbl = data3.to_numpy()\n",
    "                mx_A = np.linalg.inv(np.identity(56) - flow_tbl)\n",
    "                new = pd.DataFrame(data=mx_A)\n",
    "                new_2 = new.values.sum()\n",
    "                total_avg = new_2/(56**2)\n",
    "                sum_lines = np.sum(mx_A,axis=0).tolist()\n",
    "                forward = pd.DataFrame(data=sum_lines, columns=[\"values\"])\n",
    "                forward.insert(1, \"codes\", ['A01', 'A02', 'A03', 'B', 'C10-C12', 'C13-C15', 'C16', 'C17', 'C18', 'C19', 'C20', 'C21', 'C22', 'C23', 'C24', 'C25', 'C26', 'C27', 'C28', 'C29', 'C30', 'C31_C32', 'C33', 'D35', 'E36', 'E37-E39', 'F', 'G45', 'G46', 'G47', 'H49', 'H50', 'H51', 'H52', 'H53', 'I', 'J58', 'J59_J60', 'J61', 'J62_J63', 'K64', 'K65', 'K66', 'L68', 'M69_M70', 'M71', 'M72', 'M73', 'M74_M75', 'N', 'O84', 'P85', 'Q', 'R_S', 'T', 'U'])\n",
    "                forward = forward.set_index('codes')\n",
    "                forward[j]=(forward['values']/56)/total_avg\n",
    "                forward = forward.drop(['values'], axis=1)\n",
    "                \n",
    "                #Final steps \n",
    "                forward_linkages = pd.merge(forward_linkages, forward, on=\"codes\")\n",
    "                forward_linkages['Country'] = filename\n",
    "                forward_linkages.Country = forward_linkages.Country.str[5:]\n",
    "                forward_linkages.Country = forward_linkages.Country.str[:-4]\n",
    "                forward_linkages.to_csv(filename+'.csv')"
   ]
  },
  {
   "cell_type": "markdown",
   "metadata": {},
   "source": [
    "### Creating dataframe for forward linkages"
   ]
  },
  {
   "cell_type": "code",
   "execution_count": null,
   "metadata": {},
   "outputs": [],
   "source": [
    "# get data file names\n",
    "path =r'data'\n",
    "filenames = glob.glob(path + \"/*.csv.csv\")\n",
    "\n",
    "# Create dfs list and append lists\n",
    "dfs = []\n",
    "for filename in filenames:\n",
    "    dfs.append(pd.read_csv(filename))\n",
    "\n",
    "# Concatenate all data into one DataFrame\n",
    "df_final = pd.concat(dfs, ignore_index=True)\n",
    "df_final.drop(columns=['1999'], inplace=True)\n",
    "df_final=df_final[['codes','Country','2000','2001','2002','2003','2004','2005','2006','2007','2008','2009','2010','2011','2012','2013','2014']]\n",
    "df_final"
   ]
  },
  {
   "cell_type": "code",
   "execution_count": null,
   "metadata": {},
   "outputs": [],
   "source": []
  }
 ],
 "metadata": {
  "kernelspec": {
   "display_name": "Python 3",
   "language": "python",
   "name": "python3"
  },
  "language_info": {
   "codemirror_mode": {
    "name": "ipython",
    "version": 3
   },
   "file_extension": ".py",
   "mimetype": "text/x-python",
   "name": "python",
   "nbconvert_exporter": "python",
   "pygments_lexer": "ipython3",
   "version": "3.8.5"
  }
 },
 "nbformat": 4,
 "nbformat_minor": 4
}
