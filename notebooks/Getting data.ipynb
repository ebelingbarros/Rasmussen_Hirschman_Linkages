{
 "cells": [
  {
   "cell_type": "code",
   "execution_count": 1,
   "metadata": {},
   "outputs": [],
   "source": [
    "import pandas as pd\n",
    "import numpy as np\n",
    "from sklearn import preprocessing\n",
    "from numpy.linalg import inv"
   ]
  },
  {
   "cell_type": "code",
   "execution_count": 2,
   "metadata": {},
   "outputs": [],
   "source": [
    "data = pd.read_csv('latvia.csv', low_memory=False)\n",
    "data['Year'] = pd.to_datetime(data['Year'], format='%Y')"
   ]
  },
  {
   "cell_type": "markdown",
   "metadata": {},
   "source": [
    "***\n",
    "### 2000"
   ]
  },
  {
   "cell_type": "code",
   "execution_count": 3,
   "metadata": {},
   "outputs": [],
   "source": [
    "data1 = pd.DataFrame(data, columns = ['Year','Code', 'Origin','A01', 'A02', 'A03', 'B', 'C10-C12', 'C13-C15', 'C16', 'C17', 'C18', 'C19', 'C20', 'C21', 'C22', 'C23', 'C24', 'C25', 'C26', 'C27', 'C28', 'C29', 'C30', 'C31_C32', 'C33', 'D35', 'E36', 'E37-E39', 'F', 'G45', 'G46', 'G47', 'H49', 'H50', 'H51', 'H52', 'H53', 'I', 'J58', 'J59_J60', 'J61', 'J62_J63', 'K64', 'K65', 'K66', 'L68', 'M69_M70', 'M71', 'M72', 'M73', 'M74_M75', 'N', 'O84', 'P85', 'Q', 'R_S', 'T', 'U'\n",
    "])\n",
    "data2 = data1.loc[(data1['Year'] == '2000-01-01') & (data1['Origin'] == 'Domestic')]\n",
    "data3 = data2.drop(['Year', 'Code', 'Origin'], axis=1)\n",
    "data3 = data3.apply(pd.to_numeric, errors='coerce')\n",
    "flow_tbl = data3.to_numpy()\n",
    "mx_A = np.linalg.inv(np.identity(56) - flow_tbl)\n",
    "novo = pd.DataFrame(data=mx_A)\n",
    "a = novo.values.sum()\n",
    "total_avg = a/(56**2)\n",
    "soma_colunas = np.sum(mx_A,axis=1).tolist()\n",
    "para_tras = pd.DataFrame(data=soma_colunas, columns=[\"values\"])\n",
    "para_tras.insert(1, \"codes\", ['A01', 'A02', 'A03', 'B', 'C10-C12', 'C13-C15', 'C16', 'C17', 'C18', 'C19', 'C20', 'C21', 'C22', 'C23', 'C24', 'C25', 'C26', 'C27', 'C28', 'C29', 'C30', 'C31_C32', 'C33', 'D35', 'E36', 'E37-E39', 'F', 'G45', 'G46', 'G47', 'H49', 'H50', 'H51', 'H52', 'H53', 'I', 'J58', 'J59_J60', 'J61', 'J62_J63', 'K64', 'K65', 'K66', 'L68', 'M69_M70', 'M71', 'M72', 'M73', 'M74_M75', 'N', 'O84', 'P85', 'Q', 'R_S', 'T', 'U'])\n",
    "para_tras = para_tras.set_index('codes')\n",
    "para_tras['2000']=(para_tras['values']/56)/total_avg\n",
    "para_tras = para_tras.drop(['values'], axis=1)\n",
    "soma_linhas = np.sum(mx_A,axis=0).tolist()\n",
    "para_frente = pd.DataFrame(data=soma_linhas, columns=[\"values\"])\n",
    "para_frente.insert(1, \"codes\", ['A01', 'A02', 'A03', 'B', 'C10-C12', 'C13-C15', 'C16', 'C17', 'C18', 'C19', 'C20', 'C21', 'C22', 'C23', 'C24', 'C25', 'C26', 'C27', 'C28', 'C29', 'C30', 'C31_C32', 'C33', 'D35', 'E36', 'E37-E39', 'F', 'G45', 'G46', 'G47', 'H49', 'H50', 'H51', 'H52', 'H53', 'I', 'J58', 'J59_J60', 'J61', 'J62_J63', 'K64', 'K65', 'K66', 'L68', 'M69_M70', 'M71', 'M72', 'M73', 'M74_M75', 'N', 'O84', 'P85', 'Q', 'R_S', 'T', 'U'])\n",
    "para_frente = para_frente.set_index('codes')\n",
    "para_frente['2000']=(para_frente['values']/56)/total_avg\n",
    "para_frente = para_frente.drop(['values'], axis=1)\n",
    "\n"
   ]
  },
  {
   "cell_type": "markdown",
   "metadata": {},
   "source": [
    "***\n",
    "### 2001"
   ]
  },
  {
   "cell_type": "code",
   "execution_count": 4,
   "metadata": {},
   "outputs": [],
   "source": [
    "data1_1 = pd.DataFrame(data, columns = ['Year','Code', 'Origin','A01', 'A02', 'A03', 'B', 'C10-C12', 'C13-C15', 'C16', 'C17', 'C18', 'C19', 'C20', 'C21', 'C22', 'C23', 'C24', 'C25', 'C26', 'C27', 'C28', 'C29', 'C30', 'C31_C32', 'C33', 'D35', 'E36', 'E37-E39', 'F', 'G45', 'G46', 'G47', 'H49', 'H50', 'H51', 'H52', 'H53', 'I', 'J58', 'J59_J60', 'J61', 'J62_J63', 'K64', 'K65', 'K66', 'L68', 'M69_M70', 'M71', 'M72', 'M73', 'M74_M75', 'N', 'O84', 'P85', 'Q', 'R_S', 'T', 'U'\n",
    "])\n",
    "data2_1 = data1_1.loc[(data1_1['Year'] == '2001-01-01') & (data1_1['Origin'] == 'Domestic')]\n",
    "data3_1 = data2_1.drop(['Year', 'Code', 'Origin'], axis=1)\n",
    "data3_1 = data3_1.apply(pd.to_numeric, errors='coerce')\n",
    "flow_tbl_1 = data3_1.to_numpy()\n",
    "mx_A_1 = np.linalg.inv(np.identity(56) - flow_tbl_1)\n",
    "novo_1 = pd.DataFrame(data=mx_A_1)\n",
    "a_1 = novo_1.values.sum()\n",
    "total_avg_1 = a_1/(56**2)\n",
    "soma_colunas_1 = np.sum(mx_A_1,axis=1).tolist()\n",
    "para_tras_1 = pd.DataFrame(data=soma_colunas_1, columns=[\"values\"])\n",
    "para_tras_1.insert(1, \"codes\", ['A01', 'A02', 'A03', 'B', 'C10-C12', 'C13-C15', 'C16', 'C17', 'C18', 'C19', 'C20', 'C21', 'C22', 'C23', 'C24', 'C25', 'C26', 'C27', 'C28', 'C29', 'C30', 'C31_C32', 'C33', 'D35', 'E36', 'E37-E39', 'F', 'G45', 'G46', 'G47', 'H49', 'H50', 'H51', 'H52', 'H53', 'I', 'J58', 'J59_J60', 'J61', 'J62_J63', 'K64', 'K65', 'K66', 'L68', 'M69_M70', 'M71', 'M72', 'M73', 'M74_M75', 'N', 'O84', 'P85', 'Q', 'R_S', 'T', 'U'])\n",
    "para_tras_1 = para_tras_1.set_index('codes')\n",
    "para_tras_1['2001']=(para_tras_1['values']/56)/total_avg_1\n",
    "para_tras_1 = para_tras_1.drop(['values'], axis=1)\n",
    "soma_linhas_1 = np.sum(mx_A_1,axis=0).tolist()\n",
    "para_frente_1 = pd.DataFrame(data=soma_linhas_1, columns=[\"values\"])\n",
    "para_frente_1.insert(1, \"codes\", ['A01', 'A02', 'A03', 'B', 'C10-C12', 'C13-C15', 'C16', 'C17', 'C18', 'C19', 'C20', 'C21', 'C22', 'C23', 'C24', 'C25', 'C26', 'C27', 'C28', 'C29', 'C30', 'C31_C32', 'C33', 'D35', 'E36', 'E37-E39', 'F', 'G45', 'G46', 'G47', 'H49', 'H50', 'H51', 'H52', 'H53', 'I', 'J58', 'J59_J60', 'J61', 'J62_J63', 'K64', 'K65', 'K66', 'L68', 'M69_M70', 'M71', 'M72', 'M73', 'M74_M75', 'N', 'O84', 'P85', 'Q', 'R_S', 'T', 'U'])\n",
    "para_frente_1 = para_frente_1.set_index('codes')\n",
    "para_frente_1['2001']=(para_frente_1['values']/56)/total_avg_1\n",
    "para_frente_1 = para_frente_1.drop(['values'], axis=1)"
   ]
  },
  {
   "cell_type": "markdown",
   "metadata": {},
   "source": [
    "***\n",
    "### 2002"
   ]
  },
  {
   "cell_type": "code",
   "execution_count": 5,
   "metadata": {},
   "outputs": [],
   "source": [
    "data1_2 = pd.DataFrame(data, columns = ['Year','Code', 'Origin','A01', 'A02', 'A03', 'B', 'C10-C12', 'C13-C15', 'C16', 'C17', 'C18', 'C19', 'C20', 'C21', 'C22', 'C23', 'C24', 'C25', 'C26', 'C27', 'C28', 'C29', 'C30', 'C31_C32', 'C33', 'D35', 'E36', 'E37-E39', 'F', 'G45', 'G46', 'G47', 'H49', 'H50', 'H51', 'H52', 'H53', 'I', 'J58', 'J59_J60', 'J61', 'J62_J63', 'K64', 'K65', 'K66', 'L68', 'M69_M70', 'M71', 'M72', 'M73', 'M74_M75', 'N', 'O84', 'P85', 'Q', 'R_S', 'T', 'U'\n",
    "])\n",
    "data2_2 = data1_2.loc[(data1_2['Year'] == '2002-01-01') & (data1_2['Origin'] == 'Domestic')]\n",
    "data3_2 = data2_2.drop(['Year', 'Code', 'Origin'], axis=1)\n",
    "data3_2 = data3_2.apply(pd.to_numeric, errors='coerce')\n",
    "flow_tbl_2 = data3_2.to_numpy()\n",
    "mx_A_2 = np.linalg.inv(np.identity(56) - flow_tbl_2)\n",
    "novo_2 = pd.DataFrame(data=mx_A_2)\n",
    "a_2 = novo_2.values.sum()\n",
    "total_avg_2 = a_2/(56**2)\n",
    "soma_colunas_2 = np.sum(mx_A_2,axis=1).tolist()\n",
    "para_tras_2 = pd.DataFrame(data=soma_colunas_2, columns=[\"values\"])\n",
    "para_tras_2.insert(1, \"codes\", ['A01', 'A02', 'A03', 'B', 'C10-C12', 'C13-C15', 'C16', 'C17', 'C18', 'C19', 'C20', 'C21', 'C22', 'C23', 'C24', 'C25', 'C26', 'C27', 'C28', 'C29', 'C30', 'C31_C32', 'C33', 'D35', 'E36', 'E37-E39', 'F', 'G45', 'G46', 'G47', 'H49', 'H50', 'H51', 'H52', 'H53', 'I', 'J58', 'J59_J60', 'J61', 'J62_J63', 'K64', 'K65', 'K66', 'L68', 'M69_M70', 'M71', 'M72', 'M73', 'M74_M75', 'N', 'O84', 'P85', 'Q', 'R_S', 'T', 'U'])\n",
    "para_tras_2 = para_tras_2.set_index('codes')\n",
    "para_tras_2['2002']=(para_tras_2['values']/56)/total_avg_2\n",
    "para_tras_2 = para_tras_2.drop(['values'], axis=1)\n",
    "soma_linhas_2 = np.sum(mx_A_2,axis=0).tolist()\n",
    "para_frente_2 = pd.DataFrame(data=soma_linhas_2, columns=[\"values\"])\n",
    "para_frente_2.insert(1, \"codes\", ['A01', 'A02', 'A03', 'B', 'C10-C12', 'C13-C15', 'C16', 'C17', 'C18', 'C19', 'C20', 'C21', 'C22', 'C23', 'C24', 'C25', 'C26', 'C27', 'C28', 'C29', 'C30', 'C31_C32', 'C33', 'D35', 'E36', 'E37-E39', 'F', 'G45', 'G46', 'G47', 'H49', 'H50', 'H51', 'H52', 'H53', 'I', 'J58', 'J59_J60', 'J61', 'J62_J63', 'K64', 'K65', 'K66', 'L68', 'M69_M70', 'M71', 'M72', 'M73', 'M74_M75', 'N', 'O84', 'P85', 'Q', 'R_S', 'T', 'U'])\n",
    "para_frente_2 = para_frente_2.set_index('codes')\n",
    "para_frente_2['2002']=(para_frente_2['values']/56)/total_avg_2\n",
    "para_frente_2 = para_frente_2.drop(['values'], axis=1)"
   ]
  },
  {
   "cell_type": "markdown",
   "metadata": {},
   "source": [
    "***\n",
    "### 2003"
   ]
  },
  {
   "cell_type": "code",
   "execution_count": 6,
   "metadata": {},
   "outputs": [],
   "source": [
    "data1_3 = pd.DataFrame(data, columns = ['Year','Code', 'Origin','A01', 'A02', 'A03', 'B', 'C10-C12', 'C13-C15', 'C16', 'C17', 'C18', 'C19', 'C20', 'C21', 'C22', 'C23', 'C24', 'C25', 'C26', 'C27', 'C28', 'C29', 'C30', 'C31_C32', 'C33', 'D35', 'E36', 'E37-E39', 'F', 'G45', 'G46', 'G47', 'H49', 'H50', 'H51', 'H52', 'H53', 'I', 'J58', 'J59_J60', 'J61', 'J62_J63', 'K64', 'K65', 'K66', 'L68', 'M69_M70', 'M71', 'M72', 'M73', 'M74_M75', 'N', 'O84', 'P85', 'Q', 'R_S', 'T', 'U'\n",
    "])\n",
    "data2_3 = data1_3.loc[(data1_3['Year'] == '2003-01-01') & (data1_3['Origin'] == 'Domestic')]\n",
    "data3_3 = data2_3.drop(['Year', 'Code', 'Origin'], axis=1)\n",
    "data3_3 = data3_3.apply(pd.to_numeric, errors='coerce')\n",
    "flow_tbl_3 = data3_3.to_numpy()\n",
    "mx_A_3 = np.linalg.inv(np.identity(56) - flow_tbl_3)\n",
    "novo_3 = pd.DataFrame(data=mx_A_3)\n",
    "a_3 = novo_3.values.sum()\n",
    "total_avg_3 = a_3/(56**2)\n",
    "soma_colunas_3 = np.sum(mx_A_3,axis=1).tolist()\n",
    "para_tras_3 = pd.DataFrame(data=soma_colunas_3, columns=[\"values\"])\n",
    "para_tras_3.insert(1, \"codes\", ['A01', 'A02', 'A03', 'B', 'C10-C12', 'C13-C15', 'C16', 'C17', 'C18', 'C19', 'C20', 'C21', 'C22', 'C23', 'C24', 'C25', 'C26', 'C27', 'C28', 'C29', 'C30', 'C31_C32', 'C33', 'D35', 'E36', 'E37-E39', 'F', 'G45', 'G46', 'G47', 'H49', 'H50', 'H51', 'H52', 'H53', 'I', 'J58', 'J59_J60', 'J61', 'J62_J63', 'K64', 'K65', 'K66', 'L68', 'M69_M70', 'M71', 'M72', 'M73', 'M74_M75', 'N', 'O84', 'P85', 'Q', 'R_S', 'T', 'U'])\n",
    "para_tras_3 = para_tras_3.set_index('codes')\n",
    "para_tras_3['2003']=(para_tras_3['values']/56)/total_avg_3\n",
    "para_tras_3 = para_tras_3.drop(['values'], axis=1)\n",
    "soma_linhas_3 = np.sum(mx_A_3,axis=0).tolist()\n",
    "para_frente_3 = pd.DataFrame(data=soma_linhas_3, columns=[\"values\"])\n",
    "para_frente_3.insert(1, \"codes\", ['A01', 'A02', 'A03', 'B', 'C10-C12', 'C13-C15', 'C16', 'C17', 'C18', 'C19', 'C20', 'C21', 'C22', 'C23', 'C24', 'C25', 'C26', 'C27', 'C28', 'C29', 'C30', 'C31_C32', 'C33', 'D35', 'E36', 'E37-E39', 'F', 'G45', 'G46', 'G47', 'H49', 'H50', 'H51', 'H52', 'H53', 'I', 'J58', 'J59_J60', 'J61', 'J62_J63', 'K64', 'K65', 'K66', 'L68', 'M69_M70', 'M71', 'M72', 'M73', 'M74_M75', 'N', 'O84', 'P85', 'Q', 'R_S', 'T', 'U'])\n",
    "para_frente_3 = para_frente_3.set_index('codes')\n",
    "para_frente_3['2003']=(para_frente_3['values']/56)/total_avg_3\n",
    "para_frente_3 = para_frente_3.drop(['values'], axis=1)"
   ]
  },
  {
   "cell_type": "markdown",
   "metadata": {},
   "source": [
    "***\n",
    "### 2004"
   ]
  },
  {
   "cell_type": "code",
   "execution_count": 7,
   "metadata": {},
   "outputs": [],
   "source": [
    "data1_4 = pd.DataFrame(data, columns = ['Year','Code', 'Origin','A01', 'A02', 'A03', 'B', 'C10-C12', 'C13-C15', 'C16', 'C17', 'C18', 'C19', 'C20', 'C21', 'C22', 'C23', 'C24', 'C25', 'C26', 'C27', 'C28', 'C29', 'C30', 'C31_C32', 'C33', 'D35', 'E36', 'E37-E39', 'F', 'G45', 'G46', 'G47', 'H49', 'H50', 'H51', 'H52', 'H53', 'I', 'J58', 'J59_J60', 'J61', 'J62_J63', 'K64', 'K65', 'K66', 'L68', 'M69_M70', 'M71', 'M72', 'M73', 'M74_M75', 'N', 'O84', 'P85', 'Q', 'R_S', 'T', 'U'\n",
    "])\n",
    "data2_4 = data1_4.loc[(data1_4['Year'] == '2004-01-01') & (data1_4['Origin'] == 'Domestic')]\n",
    "data3_4 = data2_4.drop(['Year', 'Code', 'Origin'], axis=1)\n",
    "data3_4 = data3_4.apply(pd.to_numeric, errors='coerce')\n",
    "flow_tbl_4 = data3_4.to_numpy()\n",
    "mx_A_4 = np.linalg.inv(np.identity(56) - flow_tbl_4)\n",
    "novo_4 = pd.DataFrame(data=mx_A_4)\n",
    "a_4 = novo_4.values.sum()\n",
    "total_avg_4 = a_4/(56**2)\n",
    "soma_colunas_4 = np.sum(mx_A_4,axis=1).tolist()\n",
    "para_tras_4 = pd.DataFrame(data=soma_colunas_4, columns=[\"values\"])\n",
    "para_tras_4.insert(1, \"codes\", ['A01', 'A02', 'A03', 'B', 'C10-C12', 'C13-C15', 'C16', 'C17', 'C18', 'C19', 'C20', 'C21', 'C22', 'C23', 'C24', 'C25', 'C26', 'C27', 'C28', 'C29', 'C30', 'C31_C32', 'C33', 'D35', 'E36', 'E37-E39', 'F', 'G45', 'G46', 'G47', 'H49', 'H50', 'H51', 'H52', 'H53', 'I', 'J58', 'J59_J60', 'J61', 'J62_J63', 'K64', 'K65', 'K66', 'L68', 'M69_M70', 'M71', 'M72', 'M73', 'M74_M75', 'N', 'O84', 'P85', 'Q', 'R_S', 'T', 'U'])\n",
    "para_tras_4 = para_tras_4.set_index('codes')\n",
    "para_tras_4['2004']=(para_tras_4['values']/56)/total_avg_4\n",
    "para_tras_4 = para_tras_4.drop(['values'], axis=1)\n",
    "soma_linhas_4 = np.sum(mx_A_4,axis=0).tolist()\n",
    "para_frente_4 = pd.DataFrame(data=soma_linhas_4, columns=[\"values\"])\n",
    "para_frente_4.insert(1, \"codes\", ['A01', 'A02', 'A03', 'B', 'C10-C12', 'C13-C15', 'C16', 'C17', 'C18', 'C19', 'C20', 'C21', 'C22', 'C23', 'C24', 'C25', 'C26', 'C27', 'C28', 'C29', 'C30', 'C31_C32', 'C33', 'D35', 'E36', 'E37-E39', 'F', 'G45', 'G46', 'G47', 'H49', 'H50', 'H51', 'H52', 'H53', 'I', 'J58', 'J59_J60', 'J61', 'J62_J63', 'K64', 'K65', 'K66', 'L68', 'M69_M70', 'M71', 'M72', 'M73', 'M74_M75', 'N', 'O84', 'P85', 'Q', 'R_S', 'T', 'U'])\n",
    "para_frente_4 = para_frente_4.set_index('codes')\n",
    "para_frente_4['2004']=(para_frente_4['values']/56)/total_avg_4\n",
    "para_frente_4 = para_frente_4.drop(['values'], axis=1)"
   ]
  },
  {
   "cell_type": "markdown",
   "metadata": {},
   "source": [
    "***\n",
    "### 2005"
   ]
  },
  {
   "cell_type": "code",
   "execution_count": 8,
   "metadata": {},
   "outputs": [],
   "source": [
    "data1_5 = pd.DataFrame(data, columns = ['Year','Code', 'Origin','A01', 'A02', 'A03', 'B', 'C10-C12', 'C13-C15', 'C16', 'C17', 'C18', 'C19', 'C20', 'C21', 'C22', 'C23', 'C24', 'C25', 'C26', 'C27', 'C28', 'C29', 'C30', 'C31_C32', 'C33', 'D35', 'E36', 'E37-E39', 'F', 'G45', 'G46', 'G47', 'H49', 'H50', 'H51', 'H52', 'H53', 'I', 'J58', 'J59_J60', 'J61', 'J62_J63', 'K64', 'K65', 'K66', 'L68', 'M69_M70', 'M71', 'M72', 'M73', 'M74_M75', 'N', 'O84', 'P85', 'Q', 'R_S', 'T', 'U'\n",
    "])\n",
    "data2_5 = data1_5.loc[(data1_5['Year'] == '2005-01-01') & (data1_5['Origin'] == 'Domestic')]\n",
    "data3_5 = data2_5.drop(['Year', 'Code', 'Origin'], axis=1)\n",
    "data3_5 = data3_5.apply(pd.to_numeric, errors='coerce')\n",
    "flow_tbl_5 = data3_5.to_numpy()\n",
    "mx_A_5 = np.linalg.inv(np.identity(56) - flow_tbl_5)\n",
    "novo_5 = pd.DataFrame(data=mx_A_5)\n",
    "a_5 = novo_5.values.sum()\n",
    "total_avg_5 = a_5/(56**2)\n",
    "soma_colunas_5 = np.sum(mx_A_5,axis=1).tolist()\n",
    "para_tras_5 = pd.DataFrame(data=soma_colunas_5, columns=[\"values\"])\n",
    "para_tras_5.insert(1, \"codes\", ['A01', 'A02', 'A03', 'B', 'C10-C12', 'C13-C15', 'C16', 'C17', 'C18', 'C19', 'C20', 'C21', 'C22', 'C23', 'C24', 'C25', 'C26', 'C27', 'C28', 'C29', 'C30', 'C31_C32', 'C33', 'D35', 'E36', 'E37-E39', 'F', 'G45', 'G46', 'G47', 'H49', 'H50', 'H51', 'H52', 'H53', 'I', 'J58', 'J59_J60', 'J61', 'J62_J63', 'K64', 'K65', 'K66', 'L68', 'M69_M70', 'M71', 'M72', 'M73', 'M74_M75', 'N', 'O84', 'P85', 'Q', 'R_S', 'T', 'U'])\n",
    "para_tras_5 = para_tras_5.set_index('codes')\n",
    "para_tras_5['2005']=(para_tras_5['values']/56)/total_avg_5\n",
    "para_tras_5 = para_tras_5.drop(['values'], axis=1)\n",
    "soma_linhas_5 = np.sum(mx_A_5,axis=0).tolist()\n",
    "para_frente_5 = pd.DataFrame(data=soma_linhas_5, columns=[\"values\"])\n",
    "para_frente_5.insert(1, \"codes\", ['A01', 'A02', 'A03', 'B', 'C10-C12', 'C13-C15', 'C16', 'C17', 'C18', 'C19', 'C20', 'C21', 'C22', 'C23', 'C24', 'C25', 'C26', 'C27', 'C28', 'C29', 'C30', 'C31_C32', 'C33', 'D35', 'E36', 'E37-E39', 'F', 'G45', 'G46', 'G47', 'H49', 'H50', 'H51', 'H52', 'H53', 'I', 'J58', 'J59_J60', 'J61', 'J62_J63', 'K64', 'K65', 'K66', 'L68', 'M69_M70', 'M71', 'M72', 'M73', 'M74_M75', 'N', 'O84', 'P85', 'Q', 'R_S', 'T', 'U'])\n",
    "para_frente_5 = para_frente_5.set_index('codes')\n",
    "para_frente_5['2005']=(para_frente_5['values']/56)/total_avg_5\n",
    "para_frente_5 = para_frente_5.drop(['values'], axis=1)"
   ]
  },
  {
   "cell_type": "markdown",
   "metadata": {},
   "source": [
    "***\n",
    "### 2006"
   ]
  },
  {
   "cell_type": "code",
   "execution_count": 9,
   "metadata": {},
   "outputs": [],
   "source": [
    "data1_6 = pd.DataFrame(data, columns = ['Year','Code', 'Origin','A01', 'A02', 'A03', 'B', 'C10-C12', 'C13-C15', 'C16', 'C17', 'C18', 'C19', 'C20', 'C21', 'C22', 'C23', 'C24', 'C25', 'C26', 'C27', 'C28', 'C29', 'C30', 'C31_C32', 'C33', 'D35', 'E36', 'E37-E39', 'F', 'G45', 'G46', 'G47', 'H49', 'H50', 'H51', 'H52', 'H53', 'I', 'J58', 'J59_J60', 'J61', 'J62_J63', 'K64', 'K65', 'K66', 'L68', 'M69_M70', 'M71', 'M72', 'M73', 'M74_M75', 'N', 'O84', 'P85', 'Q', 'R_S', 'T', 'U'\n",
    "])\n",
    "data2_6 = data1_6.loc[(data1_6['Year'] == '2006-01-01') & (data1_6['Origin'] == 'Domestic')]\n",
    "data3_6 = data2_6.drop(['Year', 'Code', 'Origin'], axis=1)\n",
    "data3_6 = data3_6.apply(pd.to_numeric, errors='coerce')\n",
    "flow_tbl_6 = data3_6.to_numpy()\n",
    "mx_A_6 = np.linalg.inv(np.identity(56) - flow_tbl_6)\n",
    "novo_6 = pd.DataFrame(data=mx_A_6)\n",
    "a_6 = novo_6.values.sum()\n",
    "total_avg_6 = a_6/(56**2)\n",
    "soma_colunas_6 = np.sum(mx_A_6,axis=1).tolist()\n",
    "para_tras_6 = pd.DataFrame(data=soma_colunas_6, columns=[\"values\"])\n",
    "para_tras_6.insert(1, \"codes\", ['A01', 'A02', 'A03', 'B', 'C10-C12', 'C13-C15', 'C16', 'C17', 'C18', 'C19', 'C20', 'C21', 'C22', 'C23', 'C24', 'C25', 'C26', 'C27', 'C28', 'C29', 'C30', 'C31_C32', 'C33', 'D35', 'E36', 'E37-E39', 'F', 'G45', 'G46', 'G47', 'H49', 'H50', 'H51', 'H52', 'H53', 'I', 'J58', 'J59_J60', 'J61', 'J62_J63', 'K64', 'K65', 'K66', 'L68', 'M69_M70', 'M71', 'M72', 'M73', 'M74_M75', 'N', 'O84', 'P85', 'Q', 'R_S', 'T', 'U'])\n",
    "para_tras_6 = para_tras_6.set_index('codes')\n",
    "para_tras_6['2006']=(para_tras_6['values']/56)/total_avg_6\n",
    "para_tras_6 = para_tras_6.drop(['values'], axis=1)\n",
    "soma_linhas_6 = np.sum(mx_A_6,axis=0).tolist()\n",
    "para_frente_6 = pd.DataFrame(data=soma_linhas_6, columns=[\"values\"])\n",
    "para_frente_6.insert(1, \"codes\", ['A01', 'A02', 'A03', 'B', 'C10-C12', 'C13-C15', 'C16', 'C17', 'C18', 'C19', 'C20', 'C21', 'C22', 'C23', 'C24', 'C25', 'C26', 'C27', 'C28', 'C29', 'C30', 'C31_C32', 'C33', 'D35', 'E36', 'E37-E39', 'F', 'G45', 'G46', 'G47', 'H49', 'H50', 'H51', 'H52', 'H53', 'I', 'J58', 'J59_J60', 'J61', 'J62_J63', 'K64', 'K65', 'K66', 'L68', 'M69_M70', 'M71', 'M72', 'M73', 'M74_M75', 'N', 'O84', 'P85', 'Q', 'R_S', 'T', 'U'])\n",
    "para_frente_6 = para_frente_6.set_index('codes')\n",
    "para_frente_6['2006']=(para_frente_6['values']/56)/total_avg_6\n",
    "para_frente_6 = para_frente_6.drop(['values'], axis=1)"
   ]
  },
  {
   "cell_type": "markdown",
   "metadata": {},
   "source": [
    "***\n",
    "### 2007"
   ]
  },
  {
   "cell_type": "code",
   "execution_count": 10,
   "metadata": {},
   "outputs": [],
   "source": [
    "data1_7 = pd.DataFrame(data, columns = ['Year','Code', 'Origin','A01', 'A02', 'A03', 'B', 'C10-C12', 'C13-C15', 'C16', 'C17', 'C18', 'C19', 'C20', 'C21', 'C22', 'C23', 'C24', 'C25', 'C26', 'C27', 'C28', 'C29', 'C30', 'C31_C32', 'C33', 'D35', 'E36', 'E37-E39', 'F', 'G45', 'G46', 'G47', 'H49', 'H50', 'H51', 'H52', 'H53', 'I', 'J58', 'J59_J60', 'J61', 'J62_J63', 'K64', 'K65', 'K66', 'L68', 'M69_M70', 'M71', 'M72', 'M73', 'M74_M75', 'N', 'O84', 'P85', 'Q', 'R_S', 'T', 'U'\n",
    "])\n",
    "data2_7 = data1_7.loc[(data1_7['Year'] == '2007-01-01') & (data1_7['Origin'] == 'Domestic')]\n",
    "data3_7 = data2_7.drop(['Year', 'Code', 'Origin'], axis=1)\n",
    "data3_7 = data3_7.apply(pd.to_numeric, errors='coerce')\n",
    "flow_tbl_7 = data3_7.to_numpy()\n",
    "mx_A_7 = np.linalg.inv(np.identity(56) - flow_tbl_7)\n",
    "novo_7 = pd.DataFrame(data=mx_A_7)\n",
    "a_7 = novo_7.values.sum()\n",
    "total_avg_7 = a_7/(56**2)\n",
    "soma_colunas_7 = np.sum(mx_A_7,axis=1).tolist()\n",
    "para_tras_7 = pd.DataFrame(data=soma_colunas_7, columns=[\"values\"])\n",
    "para_tras_7.insert(1, \"codes\", ['A01', 'A02', 'A03', 'B', 'C10-C12', 'C13-C15', 'C16', 'C17', 'C18', 'C19', 'C20', 'C21', 'C22', 'C23', 'C24', 'C25', 'C26', 'C27', 'C28', 'C29', 'C30', 'C31_C32', 'C33', 'D35', 'E36', 'E37-E39', 'F', 'G45', 'G46', 'G47', 'H49', 'H50', 'H51', 'H52', 'H53', 'I', 'J58', 'J59_J60', 'J61', 'J62_J63', 'K64', 'K65', 'K66', 'L68', 'M69_M70', 'M71', 'M72', 'M73', 'M74_M75', 'N', 'O84', 'P85', 'Q', 'R_S', 'T', 'U'])\n",
    "para_tras_7 = para_tras_7.set_index('codes')\n",
    "para_tras_7['2007']=(para_tras_7['values']/56)/total_avg_7\n",
    "para_tras_7 = para_tras_7.drop(['values'], axis=1)\n",
    "soma_linhas_7 = np.sum(mx_A_7,axis=0).tolist()\n",
    "para_frente_7 = pd.DataFrame(data=soma_linhas_7, columns=[\"values\"])\n",
    "para_frente_7.insert(1, \"codes\", ['A01', 'A02', 'A03', 'B', 'C10-C12', 'C13-C15', 'C16', 'C17', 'C18', 'C19', 'C20', 'C21', 'C22', 'C23', 'C24', 'C25', 'C26', 'C27', 'C28', 'C29', 'C30', 'C31_C32', 'C33', 'D35', 'E36', 'E37-E39', 'F', 'G45', 'G46', 'G47', 'H49', 'H50', 'H51', 'H52', 'H53', 'I', 'J58', 'J59_J60', 'J61', 'J62_J63', 'K64', 'K65', 'K66', 'L68', 'M69_M70', 'M71', 'M72', 'M73', 'M74_M75', 'N', 'O84', 'P85', 'Q', 'R_S', 'T', 'U'])\n",
    "para_frente_7 = para_frente_7.set_index('codes')\n",
    "para_frente_7['2007']=(para_frente_7['values']/56)/total_avg_7\n",
    "para_frente_7 = para_frente_7.drop(['values'], axis=1)"
   ]
  },
  {
   "cell_type": "markdown",
   "metadata": {},
   "source": [
    "***\n",
    "### 2008"
   ]
  },
  {
   "cell_type": "code",
   "execution_count": 11,
   "metadata": {},
   "outputs": [],
   "source": [
    "data1_8 = pd.DataFrame(data, columns = ['Year','Code', 'Origin','A01', 'A02', 'A03', 'B', 'C10-C12', 'C13-C15', 'C16', 'C17', 'C18', 'C19', 'C20', 'C21', 'C22', 'C23', 'C24', 'C25', 'C26', 'C27', 'C28', 'C29', 'C30', 'C31_C32', 'C33', 'D35', 'E36', 'E37-E39', 'F', 'G45', 'G46', 'G47', 'H49', 'H50', 'H51', 'H52', 'H53', 'I', 'J58', 'J59_J60', 'J61', 'J62_J63', 'K64', 'K65', 'K66', 'L68', 'M69_M70', 'M71', 'M72', 'M73', 'M74_M75', 'N', 'O84', 'P85', 'Q', 'R_S', 'T', 'U'\n",
    "])\n",
    "data2_8 = data1_8.loc[(data1_8['Year'] == '2008-01-01') & (data1_8['Origin'] == 'Domestic')]\n",
    "data3_8 = data2_8.drop(['Year', 'Code', 'Origin'], axis=1)\n",
    "data3_8 = data3_8.apply(pd.to_numeric, errors='coerce')\n",
    "flow_tbl_8 = data3_8.to_numpy()\n",
    "mx_A_8 = np.linalg.inv(np.identity(56) - flow_tbl_8)\n",
    "novo_8 = pd.DataFrame(data=mx_A_8)\n",
    "a_8 = novo_8.values.sum()\n",
    "total_avg_8 = a_8/(56**2)\n",
    "soma_colunas_8 = np.sum(mx_A_8,axis=1).tolist()\n",
    "para_tras_8 = pd.DataFrame(data=soma_colunas_8, columns=[\"values\"])\n",
    "para_tras_8.insert(1, \"codes\", ['A01', 'A02', 'A03', 'B', 'C10-C12', 'C13-C15', 'C16', 'C17', 'C18', 'C19', 'C20', 'C21', 'C22', 'C23', 'C24', 'C25', 'C26', 'C27', 'C28', 'C29', 'C30', 'C31_C32', 'C33', 'D35', 'E36', 'E37-E39', 'F', 'G45', 'G46', 'G47', 'H49', 'H50', 'H51', 'H52', 'H53', 'I', 'J58', 'J59_J60', 'J61', 'J62_J63', 'K64', 'K65', 'K66', 'L68', 'M69_M70', 'M71', 'M72', 'M73', 'M74_M75', 'N', 'O84', 'P85', 'Q', 'R_S', 'T', 'U'])\n",
    "para_tras_8 = para_tras_8.set_index('codes')\n",
    "para_tras_8['2008']=(para_tras_8['values']/56)/total_avg_8\n",
    "para_tras_8 = para_tras_8.drop(['values'], axis=1)\n",
    "soma_linhas_8 = np.sum(mx_A_8,axis=0).tolist()\n",
    "para_frente_8 = pd.DataFrame(data=soma_linhas_8, columns=[\"values\"])\n",
    "para_frente_8.insert(1, \"codes\", ['A01', 'A02', 'A03', 'B', 'C10-C12', 'C13-C15', 'C16', 'C17', 'C18', 'C19', 'C20', 'C21', 'C22', 'C23', 'C24', 'C25', 'C26', 'C27', 'C28', 'C29', 'C30', 'C31_C32', 'C33', 'D35', 'E36', 'E37-E39', 'F', 'G45', 'G46', 'G47', 'H49', 'H50', 'H51', 'H52', 'H53', 'I', 'J58', 'J59_J60', 'J61', 'J62_J63', 'K64', 'K65', 'K66', 'L68', 'M69_M70', 'M71', 'M72', 'M73', 'M74_M75', 'N', 'O84', 'P85', 'Q', 'R_S', 'T', 'U'])\n",
    "para_frente_8 = para_frente_8.set_index('codes')\n",
    "para_frente_8['2008']=(para_frente_8['values']/56)/total_avg_8\n",
    "para_frente_8 = para_frente_8.drop(['values'], axis=1)"
   ]
  },
  {
   "cell_type": "markdown",
   "metadata": {},
   "source": [
    "***\n",
    "### 2009"
   ]
  },
  {
   "cell_type": "code",
   "execution_count": 12,
   "metadata": {},
   "outputs": [],
   "source": [
    "data1_9 = pd.DataFrame(data, columns = ['Year','Code', 'Origin','A01', 'A02', 'A03', 'B', 'C10-C12', 'C13-C15', 'C16', 'C17', 'C18', 'C19', 'C20', 'C21', 'C22', 'C23', 'C24', 'C25', 'C26', 'C27', 'C28', 'C29', 'C30', 'C31_C32', 'C33', 'D35', 'E36', 'E37-E39', 'F', 'G45', 'G46', 'G47', 'H49', 'H50', 'H51', 'H52', 'H53', 'I', 'J58', 'J59_J60', 'J61', 'J62_J63', 'K64', 'K65', 'K66', 'L68', 'M69_M70', 'M71', 'M72', 'M73', 'M74_M75', 'N', 'O84', 'P85', 'Q', 'R_S', 'T', 'U'\n",
    "])\n",
    "data2_9 = data1_9.loc[(data1_9['Year'] == '2009-01-01') & (data1_9['Origin'] == 'Domestic')]\n",
    "data3_9 = data2_9.drop(['Year', 'Code', 'Origin'], axis=1)\n",
    "data3_9 = data3_9.apply(pd.to_numeric, errors='coerce')\n",
    "flow_tbl_9 = data3_9.to_numpy()\n",
    "mx_A_9 = np.linalg.inv(np.identity(56) - flow_tbl_9)\n",
    "novo_9 = pd.DataFrame(data=mx_A_9)\n",
    "a_9 = novo_9.values.sum()\n",
    "total_avg_9 = a_9/(56**2)\n",
    "soma_colunas_9 = np.sum(mx_A_9,axis=1).tolist()\n",
    "para_tras_9 = pd.DataFrame(data=soma_colunas_9, columns=[\"values\"])\n",
    "para_tras_9.insert(1, \"codes\", ['A01', 'A02', 'A03', 'B', 'C10-C12', 'C13-C15', 'C16', 'C17', 'C18', 'C19', 'C20', 'C21', 'C22', 'C23', 'C24', 'C25', 'C26', 'C27', 'C28', 'C29', 'C30', 'C31_C32', 'C33', 'D35', 'E36', 'E37-E39', 'F', 'G45', 'G46', 'G47', 'H49', 'H50', 'H51', 'H52', 'H53', 'I', 'J58', 'J59_J60', 'J61', 'J62_J63', 'K64', 'K65', 'K66', 'L68', 'M69_M70', 'M71', 'M72', 'M73', 'M74_M75', 'N', 'O84', 'P85', 'Q', 'R_S', 'T', 'U'])\n",
    "para_tras_9 = para_tras_9.set_index('codes')\n",
    "para_tras_9['2009']=(para_tras_9['values']/56)/total_avg_9\n",
    "para_tras_9 = para_tras_9.drop(['values'], axis=1)\n",
    "soma_linhas_9 = np.sum(mx_A_9,axis=0).tolist()\n",
    "para_frente_9 = pd.DataFrame(data=soma_linhas_9, columns=[\"values\"])\n",
    "para_frente_9.insert(1, \"codes\", ['A01', 'A02', 'A03', 'B', 'C10-C12', 'C13-C15', 'C16', 'C17', 'C18', 'C19', 'C20', 'C21', 'C22', 'C23', 'C24', 'C25', 'C26', 'C27', 'C28', 'C29', 'C30', 'C31_C32', 'C33', 'D35', 'E36', 'E37-E39', 'F', 'G45', 'G46', 'G47', 'H49', 'H50', 'H51', 'H52', 'H53', 'I', 'J58', 'J59_J60', 'J61', 'J62_J63', 'K64', 'K65', 'K66', 'L68', 'M69_M70', 'M71', 'M72', 'M73', 'M74_M75', 'N', 'O84', 'P85', 'Q', 'R_S', 'T', 'U'])\n",
    "para_frente_9 = para_frente_9.set_index('codes')\n",
    "para_frente_9['2009']=(para_frente_9['values']/56)/total_avg_9\n",
    "para_frente_9 = para_frente_9.drop(['values'], axis=1)"
   ]
  },
  {
   "cell_type": "markdown",
   "metadata": {},
   "source": [
    "***\n",
    "### 2010"
   ]
  },
  {
   "cell_type": "code",
   "execution_count": 13,
   "metadata": {},
   "outputs": [],
   "source": [
    "data1_10 = pd.DataFrame(data, columns = ['Year','Code', 'Origin','A01', 'A02', 'A03', 'B', 'C10-C12', 'C13-C15', 'C16', 'C17', 'C18', 'C19', 'C20', 'C21', 'C22', 'C23', 'C24', 'C25', 'C26', 'C27', 'C28', 'C29', 'C30', 'C31_C32', 'C33', 'D35', 'E36', 'E37-E39', 'F', 'G45', 'G46', 'G47', 'H49', 'H50', 'H51', 'H52', 'H53', 'I', 'J58', 'J59_J60', 'J61', 'J62_J63', 'K64', 'K65', 'K66', 'L68', 'M69_M70', 'M71', 'M72', 'M73', 'M74_M75', 'N', 'O84', 'P85', 'Q', 'R_S', 'T', 'U'\n",
    "])\n",
    "data2_10 = data1_10.loc[(data1_10['Year'] == '2010-01-01') & (data1_10['Origin'] == 'Domestic')]\n",
    "data3_10 = data2_10.drop(['Year', 'Code', 'Origin'], axis=1)\n",
    "data3_10 = data3_10.apply(pd.to_numeric, errors='coerce')\n",
    "flow_tbl_10 = data3_10.to_numpy()\n",
    "mx_A_10 = np.linalg.inv(np.identity(56) - flow_tbl_10)\n",
    "novo_10 = pd.DataFrame(data=mx_A_10)\n",
    "a_10 = novo_10.values.sum()\n",
    "total_avg_10 = a_10/(56**2)\n",
    "soma_colunas_10 = np.sum(mx_A_10,axis=1).tolist()\n",
    "para_tras_10 = pd.DataFrame(data=soma_colunas_10, columns=[\"values\"])\n",
    "para_tras_10.insert(1, \"codes\", ['A01', 'A02', 'A03', 'B', 'C10-C12', 'C13-C15', 'C16', 'C17', 'C18', 'C19', 'C20', 'C21', 'C22', 'C23', 'C24', 'C25', 'C26', 'C27', 'C28', 'C29', 'C30', 'C31_C32', 'C33', 'D35', 'E36', 'E37-E39', 'F', 'G45', 'G46', 'G47', 'H49', 'H50', 'H51', 'H52', 'H53', 'I', 'J58', 'J59_J60', 'J61', 'J62_J63', 'K64', 'K65', 'K66', 'L68', 'M69_M70', 'M71', 'M72', 'M73', 'M74_M75', 'N', 'O84', 'P85', 'Q', 'R_S', 'T', 'U'])\n",
    "para_tras_10 = para_tras_10.set_index('codes')\n",
    "para_tras_10['2010']=(para_tras_10['values']/56)/total_avg_10\n",
    "para_tras_10 = para_tras_10.drop(['values'], axis=1)\n",
    "soma_linhas_10 = np.sum(mx_A_10,axis=0).tolist()\n",
    "para_frente_10 = pd.DataFrame(data=soma_linhas_10, columns=[\"values\"])\n",
    "para_frente_10.insert(1, \"codes\", ['A01', 'A02', 'A03', 'B', 'C10-C12', 'C13-C15', 'C16', 'C17', 'C18', 'C19', 'C20', 'C21', 'C22', 'C23', 'C24', 'C25', 'C26', 'C27', 'C28', 'C29', 'C30', 'C31_C32', 'C33', 'D35', 'E36', 'E37-E39', 'F', 'G45', 'G46', 'G47', 'H49', 'H50', 'H51', 'H52', 'H53', 'I', 'J58', 'J59_J60', 'J61', 'J62_J63', 'K64', 'K65', 'K66', 'L68', 'M69_M70', 'M71', 'M72', 'M73', 'M74_M75', 'N', 'O84', 'P85', 'Q', 'R_S', 'T', 'U'])\n",
    "para_frente_10 = para_frente_10.set_index('codes')\n",
    "para_frente_10['2010']=(para_frente_10['values']/56)/total_avg_10\n",
    "para_frente_10 = para_frente_10.drop(['values'], axis=1)"
   ]
  },
  {
   "cell_type": "markdown",
   "metadata": {},
   "source": [
    "***\n",
    "### 2011"
   ]
  },
  {
   "cell_type": "code",
   "execution_count": 14,
   "metadata": {},
   "outputs": [],
   "source": [
    "data1_11 = pd.DataFrame(data, columns = ['Year','Code', 'Origin','A01', 'A02', 'A03', 'B', 'C10-C12', 'C13-C15', 'C16', 'C17', 'C18', 'C19', 'C20', 'C21', 'C22', 'C23', 'C24', 'C25', 'C26', 'C27', 'C28', 'C29', 'C30', 'C31_C32', 'C33', 'D35', 'E36', 'E37-E39', 'F', 'G45', 'G46', 'G47', 'H49', 'H50', 'H51', 'H52', 'H53', 'I', 'J58', 'J59_J60', 'J61', 'J62_J63', 'K64', 'K65', 'K66', 'L68', 'M69_M70', 'M71', 'M72', 'M73', 'M74_M75', 'N', 'O84', 'P85', 'Q', 'R_S', 'T', 'U'\n",
    "])\n",
    "data2_11 = data1_11.loc[(data1_11['Year'] == '2011-01-01') & (data1_11['Origin'] == 'Domestic')]\n",
    "data3_11 = data2_11.drop(['Year', 'Code', 'Origin'], axis=1)\n",
    "data3_11 = data3_11.apply(pd.to_numeric, errors='coerce')\n",
    "flow_tbl_11 = data3_11.to_numpy()\n",
    "mx_A_11 = np.linalg.inv(np.identity(56) - flow_tbl_11)\n",
    "novo_11 = pd.DataFrame(data=mx_A_11)\n",
    "a_11 = novo_11.values.sum()\n",
    "total_avg_11 = a_11/(56**2)\n",
    "soma_colunas_11 = np.sum(mx_A_11,axis=1).tolist()\n",
    "para_tras_11 = pd.DataFrame(data=soma_colunas_11, columns=[\"values\"])\n",
    "para_tras_11.insert(1, \"codes\", ['A01', 'A02', 'A03', 'B', 'C10-C12', 'C13-C15', 'C16', 'C17', 'C18', 'C19', 'C20', 'C21', 'C22', 'C23', 'C24', 'C25', 'C26', 'C27', 'C28', 'C29', 'C30', 'C31_C32', 'C33', 'D35', 'E36', 'E37-E39', 'F', 'G45', 'G46', 'G47', 'H49', 'H50', 'H51', 'H52', 'H53', 'I', 'J58', 'J59_J60', 'J61', 'J62_J63', 'K64', 'K65', 'K66', 'L68', 'M69_M70', 'M71', 'M72', 'M73', 'M74_M75', 'N', 'O84', 'P85', 'Q', 'R_S', 'T', 'U'])\n",
    "para_tras_11 = para_tras_11.set_index('codes')\n",
    "para_tras_11['2011']=(para_tras_11['values']/56)/total_avg_11\n",
    "para_tras_11 = para_tras_11.drop(['values'], axis=1)\n",
    "soma_linhas_11 = np.sum(mx_A_11,axis=0).tolist()\n",
    "para_frente_11 = pd.DataFrame(data=soma_linhas_11, columns=[\"values\"])\n",
    "para_frente_11.insert(1, \"codes\", ['A01', 'A02', 'A03', 'B', 'C10-C12', 'C13-C15', 'C16', 'C17', 'C18', 'C19', 'C20', 'C21', 'C22', 'C23', 'C24', 'C25', 'C26', 'C27', 'C28', 'C29', 'C30', 'C31_C32', 'C33', 'D35', 'E36', 'E37-E39', 'F', 'G45', 'G46', 'G47', 'H49', 'H50', 'H51', 'H52', 'H53', 'I', 'J58', 'J59_J60', 'J61', 'J62_J63', 'K64', 'K65', 'K66', 'L68', 'M69_M70', 'M71', 'M72', 'M73', 'M74_M75', 'N', 'O84', 'P85', 'Q', 'R_S', 'T', 'U'])\n",
    "para_frente_11 = para_frente_11.set_index('codes')\n",
    "para_frente_11['2011']=(para_frente_11['values']/56)/total_avg_11\n",
    "para_frente_11 = para_frente_11.drop(['values'], axis=1)"
   ]
  },
  {
   "cell_type": "markdown",
   "metadata": {},
   "source": [
    "***\n",
    "### 2012"
   ]
  },
  {
   "cell_type": "code",
   "execution_count": 15,
   "metadata": {},
   "outputs": [],
   "source": [
    "data1_12 = pd.DataFrame(data, columns = ['Year','Code', 'Origin','A01', 'A02', 'A03', 'B', 'C10-C12', 'C13-C15', 'C16', 'C17', 'C18', 'C19', 'C20', 'C21', 'C22', 'C23', 'C24', 'C25', 'C26', 'C27', 'C28', 'C29', 'C30', 'C31_C32', 'C33', 'D35', 'E36', 'E37-E39', 'F', 'G45', 'G46', 'G47', 'H49', 'H50', 'H51', 'H52', 'H53', 'I', 'J58', 'J59_J60', 'J61', 'J62_J63', 'K64', 'K65', 'K66', 'L68', 'M69_M70', 'M71', 'M72', 'M73', 'M74_M75', 'N', 'O84', 'P85', 'Q', 'R_S', 'T', 'U'\n",
    "])\n",
    "data2_12 = data1_12.loc[(data1_12['Year'] == '2012-01-01') & (data1_12['Origin'] == 'Domestic')]\n",
    "data3_12 = data2_12.drop(['Year', 'Code', 'Origin'], axis=1)\n",
    "data3_12 = data3_12.apply(pd.to_numeric, errors='coerce')\n",
    "flow_tbl_12 = data3_12.to_numpy()\n",
    "mx_A_12 = np.linalg.inv(np.identity(56) - flow_tbl_12)\n",
    "novo_12 = pd.DataFrame(data=mx_A_12)\n",
    "a_12 = novo_12.values.sum()\n",
    "total_avg_12 = a_12/(56**2)\n",
    "soma_colunas_12 = np.sum(mx_A_12,axis=1).tolist()\n",
    "para_tras_12 = pd.DataFrame(data=soma_colunas_12, columns=[\"values\"])\n",
    "para_tras_12.insert(1, \"codes\", ['A01', 'A02', 'A03', 'B', 'C10-C12', 'C13-C15', 'C16', 'C17', 'C18', 'C19', 'C20', 'C21', 'C22', 'C23', 'C24', 'C25', 'C26', 'C27', 'C28', 'C29', 'C30', 'C31_C32', 'C33', 'D35', 'E36', 'E37-E39', 'F', 'G45', 'G46', 'G47', 'H49', 'H50', 'H51', 'H52', 'H53', 'I', 'J58', 'J59_J60', 'J61', 'J62_J63', 'K64', 'K65', 'K66', 'L68', 'M69_M70', 'M71', 'M72', 'M73', 'M74_M75', 'N', 'O84', 'P85', 'Q', 'R_S', 'T', 'U'])\n",
    "para_tras_12 = para_tras_12.set_index('codes')\n",
    "para_tras_12['2012']=(para_tras_12['values']/56)/total_avg_12\n",
    "para_tras_12 = para_tras_12.drop(['values'], axis=1)\n",
    "soma_linhas_12 = np.sum(mx_A_12,axis=0).tolist()\n",
    "para_frente_12 = pd.DataFrame(data=soma_linhas_12, columns=[\"values\"])\n",
    "para_frente_12.insert(1, \"codes\", ['A01', 'A02', 'A03', 'B', 'C10-C12', 'C13-C15', 'C16', 'C17', 'C18', 'C19', 'C20', 'C21', 'C22', 'C23', 'C24', 'C25', 'C26', 'C27', 'C28', 'C29', 'C30', 'C31_C32', 'C33', 'D35', 'E36', 'E37-E39', 'F', 'G45', 'G46', 'G47', 'H49', 'H50', 'H51', 'H52', 'H53', 'I', 'J58', 'J59_J60', 'J61', 'J62_J63', 'K64', 'K65', 'K66', 'L68', 'M69_M70', 'M71', 'M72', 'M73', 'M74_M75', 'N', 'O84', 'P85', 'Q', 'R_S', 'T', 'U'])\n",
    "para_frente_12 = para_frente_12.set_index('codes')\n",
    "para_frente_12['2012']=(para_frente_12['values']/56)/total_avg_12\n",
    "para_frente_12 = para_frente_12.drop(['values'], axis=1)"
   ]
  },
  {
   "cell_type": "markdown",
   "metadata": {},
   "source": [
    "***\n",
    "### 2013"
   ]
  },
  {
   "cell_type": "code",
   "execution_count": 16,
   "metadata": {},
   "outputs": [],
   "source": [
    "data1_13 = pd.DataFrame(data, columns = ['Year','Code', 'Origin','A01', 'A02', 'A03', 'B', 'C10-C12', 'C13-C15', 'C16', 'C17', 'C18', 'C19', 'C20', 'C21', 'C22', 'C23', 'C24', 'C25', 'C26', 'C27', 'C28', 'C29', 'C30', 'C31_C32', 'C33', 'D35', 'E36', 'E37-E39', 'F', 'G45', 'G46', 'G47', 'H49', 'H50', 'H51', 'H52', 'H53', 'I', 'J58', 'J59_J60', 'J61', 'J62_J63', 'K64', 'K65', 'K66', 'L68', 'M69_M70', 'M71', 'M72', 'M73', 'M74_M75', 'N', 'O84', 'P85', 'Q', 'R_S', 'T', 'U'\n",
    "])\n",
    "data2_13 = data1_13.loc[(data1_13['Year'] == '2013-01-01') & (data1_13['Origin'] == 'Domestic')]\n",
    "data3_13 = data2_13.drop(['Year', 'Code', 'Origin'], axis=1)\n",
    "data3_13 = data3_13.apply(pd.to_numeric, errors='coerce')\n",
    "flow_tbl_13 = data3_13.to_numpy()\n",
    "mx_A_13 = np.linalg.inv(np.identity(56) - flow_tbl_13)\n",
    "novo_13 = pd.DataFrame(data=mx_A_13)\n",
    "a_13 = novo_13.values.sum()\n",
    "total_avg_13 = a_13/(56**2)\n",
    "soma_colunas_13 = np.sum(mx_A_13,axis=1).tolist()\n",
    "para_tras_13 = pd.DataFrame(data=soma_colunas_13, columns=[\"values\"])\n",
    "para_tras_13.insert(1, \"codes\", ['A01', 'A02', 'A03', 'B', 'C10-C12', 'C13-C15', 'C16', 'C17', 'C18', 'C19', 'C20', 'C21', 'C22', 'C23', 'C24', 'C25', 'C26', 'C27', 'C28', 'C29', 'C30', 'C31_C32', 'C33', 'D35', 'E36', 'E37-E39', 'F', 'G45', 'G46', 'G47', 'H49', 'H50', 'H51', 'H52', 'H53', 'I', 'J58', 'J59_J60', 'J61', 'J62_J63', 'K64', 'K65', 'K66', 'L68', 'M69_M70', 'M71', 'M72', 'M73', 'M74_M75', 'N', 'O84', 'P85', 'Q', 'R_S', 'T', 'U'])\n",
    "para_tras_13 = para_tras_13.set_index('codes')\n",
    "para_tras_13['2013']=(para_tras_13['values']/56)/total_avg_13\n",
    "para_tras_13 = para_tras_13.drop(['values'], axis=1)\n",
    "soma_linhas_13 = np.sum(mx_A_13,axis=0).tolist()\n",
    "para_frente_13 = pd.DataFrame(data=soma_linhas_13, columns=[\"values\"])\n",
    "para_frente_13.insert(1, \"codes\", ['A01', 'A02', 'A03', 'B', 'C10-C12', 'C13-C15', 'C16', 'C17', 'C18', 'C19', 'C20', 'C21', 'C22', 'C23', 'C24', 'C25', 'C26', 'C27', 'C28', 'C29', 'C30', 'C31_C32', 'C33', 'D35', 'E36', 'E37-E39', 'F', 'G45', 'G46', 'G47', 'H49', 'H50', 'H51', 'H52', 'H53', 'I', 'J58', 'J59_J60', 'J61', 'J62_J63', 'K64', 'K65', 'K66', 'L68', 'M69_M70', 'M71', 'M72', 'M73', 'M74_M75', 'N', 'O84', 'P85', 'Q', 'R_S', 'T', 'U'])\n",
    "para_frente_13 = para_frente_13.set_index('codes')\n",
    "para_frente_13['2013']=(para_frente_13['values']/56)/total_avg_13\n",
    "para_frente_13 = para_frente_13.drop(['values'], axis=1)"
   ]
  },
  {
   "cell_type": "markdown",
   "metadata": {},
   "source": [
    "***\n",
    "### 2014"
   ]
  },
  {
   "cell_type": "code",
   "execution_count": 17,
   "metadata": {},
   "outputs": [],
   "source": [
    "data1_14 = pd.DataFrame(data, columns = ['Year','Code', 'Origin','A01', 'A02', 'A03', 'B', 'C10-C12', 'C13-C15', 'C16', 'C17', 'C18', 'C19', 'C20', 'C21', 'C22', 'C23', 'C24', 'C25', 'C26', 'C27', 'C28', 'C29', 'C30', 'C31_C32', 'C33', 'D35', 'E36', 'E37-E39', 'F', 'G45', 'G46', 'G47', 'H49', 'H50', 'H51', 'H52', 'H53', 'I', 'J58', 'J59_J60', 'J61', 'J62_J63', 'K64', 'K65', 'K66', 'L68', 'M69_M70', 'M71', 'M72', 'M73', 'M74_M75', 'N', 'O84', 'P85', 'Q', 'R_S', 'T', 'U'\n",
    "])\n",
    "data2_14 = data1_14.loc[(data1_14['Year'] == '2014-01-01') & (data1_14['Origin'] == 'Domestic')]\n",
    "data3_14 = data2_14.drop(['Year', 'Code', 'Origin'], axis=1)\n",
    "data3_14 = data3_14.apply(pd.to_numeric, errors='coerce')\n",
    "flow_tbl_14 = data3_14.to_numpy()\n",
    "mx_A_14 = np.linalg.inv(np.identity(56) - flow_tbl_14)\n",
    "novo_14 = pd.DataFrame(data=mx_A_14)\n",
    "a_14 = novo_14.values.sum()\n",
    "total_avg_14 = a_14/(56**2)\n",
    "soma_colunas_14 = np.sum(mx_A_14,axis=1).tolist()\n",
    "para_tras_14 = pd.DataFrame(data=soma_colunas_14, columns=[\"values\"])\n",
    "para_tras_14.insert(1, \"codes\", ['A01', 'A02', 'A03', 'B', 'C10-C12', 'C13-C15', 'C16', 'C17', 'C18', 'C19', 'C20', 'C21', 'C22', 'C23', 'C24', 'C25', 'C26', 'C27', 'C28', 'C29', 'C30', 'C31_C32', 'C33', 'D35', 'E36', 'E37-E39', 'F', 'G45', 'G46', 'G47', 'H49', 'H50', 'H51', 'H52', 'H53', 'I', 'J58', 'J59_J60', 'J61', 'J62_J63', 'K64', 'K65', 'K66', 'L68', 'M69_M70', 'M71', 'M72', 'M73', 'M74_M75', 'N', 'O84', 'P85', 'Q', 'R_S', 'T', 'U'])\n",
    "para_tras_14 = para_tras_14.set_index('codes')\n",
    "para_tras_14['2014']=(para_tras_14['values']/56)/total_avg_14\n",
    "para_tras_14 = para_tras_14.drop(['values'], axis=1)\n",
    "soma_linhas_14 = np.sum(mx_A_14,axis=0).tolist()\n",
    "para_frente_14 = pd.DataFrame(data=soma_linhas_14, columns=[\"values\"])\n",
    "para_frente_14.insert(1, \"codes\", ['A01', 'A02', 'A03', 'B', 'C10-C12', 'C13-C15', 'C16', 'C17', 'C18', 'C19', 'C20', 'C21', 'C22', 'C23', 'C24', 'C25', 'C26', 'C27', 'C28', 'C29', 'C30', 'C31_C32', 'C33', 'D35', 'E36', 'E37-E39', 'F', 'G45', 'G46', 'G47', 'H49', 'H50', 'H51', 'H52', 'H53', 'I', 'J58', 'J59_J60', 'J61', 'J62_J63', 'K64', 'K65', 'K66', 'L68', 'M69_M70', 'M71', 'M72', 'M73', 'M74_M75', 'N', 'O84', 'P85', 'Q', 'R_S', 'T', 'U'])\n",
    "para_frente_14 = para_frente_14.set_index('codes')\n",
    "para_frente_14['2014']=(para_frente_14['values']/56)/total_avg_14\n",
    "para_frente_14 = para_frente_14.drop(['values'], axis=1)"
   ]
  },
  {
   "cell_type": "markdown",
   "metadata": {},
   "source": [
    "***\n",
    "### Join tables (backward linkages) and export file to csv"
   ]
  },
  {
   "cell_type": "code",
   "execution_count": 18,
   "metadata": {},
   "outputs": [],
   "source": [
    "backward_linkages = pd.merge(para_tras, para_tras_1, on=\"codes\")\n",
    "backward_linkages = pd.merge(backward_linkages, para_tras_2, on=\"codes\")\n",
    "backward_linkages = pd.merge(backward_linkages, para_tras_3, on=\"codes\")\n",
    "backward_linkages = pd.merge(backward_linkages, para_tras_4, on=\"codes\")\n",
    "backward_linkages = pd.merge(backward_linkages, para_tras_5, on=\"codes\")\n",
    "backward_linkages = pd.merge(backward_linkages, para_tras_6, on=\"codes\")\n",
    "backward_linkages = pd.merge(backward_linkages, para_tras_7, on=\"codes\")\n",
    "backward_linkages = pd.merge(backward_linkages, para_tras_8, on=\"codes\")\n",
    "backward_linkages = pd.merge(backward_linkages, para_tras_9, on=\"codes\")\n",
    "backward_linkages = pd.merge(backward_linkages, para_tras_10, on=\"codes\")\n",
    "backward_linkages = pd.merge(backward_linkages, para_tras_11, on=\"codes\")\n",
    "backward_linkages = pd.merge(backward_linkages, para_tras_12, on=\"codes\")\n",
    "backward_linkages = pd.merge(backward_linkages, para_tras_13, on=\"codes\")\n",
    "backward_linkages = pd.merge(backward_linkages, para_tras_14, on=\"codes\")\n",
    "backward_linkages.to_csv('latvia_backward.csv', index = True)"
   ]
  },
  {
   "cell_type": "markdown",
   "metadata": {},
   "source": [
    "***\n",
    "### Join tables (forward linkages)  and export file to csv"
   ]
  },
  {
   "cell_type": "code",
   "execution_count": 19,
   "metadata": {},
   "outputs": [],
   "source": [
    "forward_linkages = pd.merge(para_frente, para_frente_1, on=\"codes\")\n",
    "forward_linkages = pd.merge(forward_linkages, para_frente_2, on=\"codes\")\n",
    "forward_linkages = pd.merge(forward_linkages, para_frente_3, on=\"codes\")\n",
    "forward_linkages = pd.merge(forward_linkages, para_frente_4, on=\"codes\")\n",
    "forward_linkages = pd.merge(forward_linkages, para_frente_5, on=\"codes\")\n",
    "forward_linkages = pd.merge(forward_linkages, para_frente_6, on=\"codes\")\n",
    "forward_linkages = pd.merge(forward_linkages, para_frente_7, on=\"codes\")\n",
    "forward_linkages = pd.merge(forward_linkages, para_frente_8, on=\"codes\")\n",
    "forward_linkages = pd.merge(forward_linkages, para_frente_9, on=\"codes\")\n",
    "forward_linkages = pd.merge(forward_linkages, para_frente_10, on=\"codes\")\n",
    "forward_linkages = pd.merge(forward_linkages, para_frente_11, on=\"codes\")\n",
    "forward_linkages = pd.merge(forward_linkages, para_frente_12, on=\"codes\")\n",
    "forward_linkages = pd.merge(forward_linkages, para_frente_13, on=\"codes\")\n",
    "forward_linkages = pd.merge(forward_linkages, para_frente_14, on=\"codes\")\n",
    "forward_linkages.to_csv('latvia_forward.csv', index = True)"
   ]
  },
  {
   "cell_type": "code",
   "execution_count": null,
   "metadata": {},
   "outputs": [],
   "source": []
  }
 ],
 "metadata": {
  "kernelspec": {
   "display_name": "Python 3",
   "language": "python",
   "name": "python3"
  },
  "language_info": {
   "codemirror_mode": {
    "name": "ipython",
    "version": 3
   },
   "file_extension": ".py",
   "mimetype": "text/x-python",
   "name": "python",
   "nbconvert_exporter": "python",
   "pygments_lexer": "ipython3",
   "version": "3.8.5"
  }
 },
 "nbformat": 4,
 "nbformat_minor": 4
}
